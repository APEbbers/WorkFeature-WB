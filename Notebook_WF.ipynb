{
 "cells": [
  {
   "cell_type": "markdown",
   "metadata": {},
   "source": [
    "# <center>WorkFeature-WB :<br> <img src=\"./Resources/Icons/WF_wf.svg\"></center>\n",
    "### <center>Work Feature workbench with parametric objects For FreeCAD </center>\n",
    "\n",
    "\n",
    "<center>by Rentlau_64</center>\n",
    "\n",
    "Updated in February 2019\n",
    "\n"
   ]
  },
  {
   "cell_type": "markdown",
   "metadata": {},
   "source": [
    "[![forthebadge made-with-python](http://ForTheBadge.com/images/badges/made-with-python.svg)](https://www.python.org/)"
   ]
  },
  {
   "cell_type": "markdown",
   "metadata": {},
   "source": [
    "# Sections\n",
    "- [Introduction](#Introduction)\n",
    "- [Installing](#Installing)\n",
    "- [Requirements](#Requirements)\n",
    "- [General purpose](#General-purpose)\n",
    "- [List of available functions](#List-of-available-functions)\n",
    "- [Extra Documentations](#Extra-Documentations)\n",
    "- [License](#License)\n",
    "- [Releases](#Releases)\n",
    "- [Associated project](#Associated-project)\n"
   ]
  },
  {
   "cell_type": "markdown",
   "metadata": {},
   "source": [
    "##  Introduction\n",
    "\n",
    "Workbench utility to create:\n",
    "- Points (Mid points, Extremum points, Center of circle, Center of Plane,),\n",
    "- Lines (From 2 points,),\n",
    "- Planes (From 1 point and 1 Line, Perpendicular from 1 point and 1 Line,)\n",
    " \n",
    " \n",
    "github : https://github.com/Rentlau/WorkFeature-WB\n",
    "\n",
    "Post on FreeCAD Forum : https://forum.freecadweb.org/viewtopic.php?f=9&t=27195"
   ]
  },
  {
   "cell_type": "markdown",
   "metadata": {},
   "source": [
    "<img src=\"./Doc/Images/Title02.png?1\">"
   ]
  },
  {
   "cell_type": "markdown",
   "metadata": {},
   "source": [
    "<b>Version 2019-01</b> "
   ]
  },
  {
   "cell_type": "markdown",
   "metadata": {},
   "source": [
    "[[back to top](#Sections)]\n",
    "\n",
    "##  Installing\n"
   ]
  },
  {
   "cell_type": "markdown",
   "metadata": {},
   "source": [
    "**WorkFeature-WB** is part of the [FreeCAD external workbenches,](https://www.freecadweb.org/wiki/External_workbenches)\n",
    " and can be automatically installed using the [FreeCAD Add-on Manager](https://github.com/FreeCAD/FreeCAD-addons) which comes bundled with FreeCAD 0.17, under the *Tools* menu. "
   ]
  },
  {
   "cell_type": "markdown",
   "metadata": {},
   "source": [
    "See repository at https://github.com/FreeCAD/FreeCAD-addons for more details on add-ons for FreeCAD."
   ]
  },
  {
   "cell_type": "markdown",
   "metadata": {},
   "source": [
    "----------\n",
    "You can also install manually this workbench by (e.g, on Linux system):\n",
    "  - Cloning the repository from github (https://github.com/Rentlau/WorkFeature-WB) using:"
   ]
  },
  {
   "cell_type": "markdown",
   "metadata": {},
   "source": [
    "```\n",
    "> mkdir /home/your_name/path_to_WorkFeature-WB\n",
    "> cd /home/your_name/path_to_WorkFeature-WB/\n",
    "> git clone https://github.com/Rentlau/WorkFeature-WB.git\n",
    "\n",
    "```"
   ]
  },
  {
   "cell_type": "markdown",
   "metadata": {},
   "source": [
    "  - *Or download from github the zip file : <b>WorkFeature-WB-master.zip</b> and extract it into \"/home/your_name/path_to_WorkFeature-WB\"*"
   ]
  },
  {
   "cell_type": "markdown",
   "metadata": {},
   "source": [
    "  - Then by making a symbolic link into \"freecad installation folder\"/Mod (most of the time <b>/home/your_name/.FreeCAD/Mod/</b>)<br>\n",
    "  Into your home directory you must have a similar directory /home/your_name/.FreeCAD/Mod/<br>\n",
    "  This is the place all your extra workbench add-ons are installed ! :<br>"
   ]
  },
  {
   "cell_type": "markdown",
   "metadata": {},
   "source": [
    "```\n",
    "> ln -s /home/your_name/path_to_WorkFeature-WB /home/your_name/.FreeCAD/Mod/\n",
    "```"
   ]
  },
  {
   "cell_type": "markdown",
   "metadata": {},
   "source": [
    "  - *Or copy the \"/home/your_name/path_to_WorkFeature-WB\" directory into into \"freecad installation folder\"/Mod add-ons directory :<br>*"
   ]
  },
  {
   "cell_type": "markdown",
   "metadata": {},
   "source": [
    "```\n",
    "cp /home/your_name/path_to_WorkFeature-WB /home/your_name/.FreeCAD/Mod/\n",
    "```"
   ]
  },
  {
   "cell_type": "markdown",
   "metadata": {},
   "source": [
    "On Windows most of the time the place all your extra workbench add-ons are installed is <b>C:\\Program Files\\FreeCAD 0.16\\Mod\\WorkeFeature-WB-master</b>."
   ]
  },
  {
   "cell_type": "markdown",
   "metadata": {},
   "source": [
    "[[back to top](#Sections)]\n",
    "\n",
    "## Requirements\n"
   ]
  },
  {
   "cell_type": "markdown",
   "metadata": {},
   "source": [
    "- <b>Freecad</b> >= v0.15\n",
    "- <b>Numpy</b> is a required dependency (numpy >= v1.14.3).\n",
    "\n",
    "The development of the macro is still currently done with Python2.7 (so this addon is not py3 compatible (yet) and may not work well in FreeCAD >= v0.18).\n",
    "\n",
    "Please \"[Open an issue](https://github.com/Rentlau/WorkFeature-WB/issues)\", if you detect any problem."
   ]
  },
  {
   "cell_type": "markdown",
   "metadata": {},
   "source": [
    "[[back to top](#Sections)]\n",
    "\n",
    "## General purpose\n"
   ]
  },
  {
   "cell_type": "markdown",
   "metadata": {},
   "source": [
    "**WorkFeature-WB** Tool utility to create **Points** (mid points, center of circle...), **Axes** (from 2 points...), **Planes** (from one axis and a point...) to facilitate the creation of your project. \n",
    "\n",
    "The idea behind this python workbench for FreeCAD was to give users some \"quick\" access tiny tools.\n",
    "\n",
    "Most of the tools are few \"clicks\" behavior to give the user quick access to functionalities."
   ]
  },
  {
   "cell_type": "markdown",
   "metadata": {},
   "source": [
    "The **workbench** will create into your FreeCAD document a new Group named `WorkFeatures`.<br>\n",
    "Depending of the tool you will use some objects can be created under the following sub Groups:\n",
    "- WorkFeatures/\n",
    "  - WorkPoints_P\n",
    "  - WorkAxes_P\n",
    "  - WorkPlanes_P\n"
   ]
  },
  {
   "cell_type": "markdown",
   "metadata": {},
   "source": [
    "Quite all **objects** created with **WorkFeature-WB** functions are parametric.\n",
    "\n",
    "That means; if the **\"parent\"** object change, all **children WorkFeature-WB** objects will change accordingly !\n",
    "\n",
    "The **\"Parametric\"** property of objects can have any of the following behavior regarding parent changes:\n",
    "- **Not** : For static behavior (No update even if one parents change).\n",
    "- **Interactive** : Update only when user asks for (click on **`Update`** Button).\n",
    "- **Dynamic** : Update each time one of parents change.\n",
    "\n",
    "A color code regarding the **\"Parametric\"** property is used:\n",
    "\n",
    "| | |\n",
    "|:------|:------|\n",
    "|**Not** parametric color | ![alt](./Resources/Icons/WF_pointNot.svg) |\n",
    "|**Interactive** parametric color | ![alt](./Resources/Icons/WF_pointInteractive.svg) |\n",
    "|**Dynamic** parametric color | ![alt](./Resources/Icons/WF_pointDynamic.svg?1) |"
   ]
  },
  {
   "cell_type": "markdown",
   "metadata": {},
   "source": [
    "The **\"Parametric\"** property can be changed for each single object in his **Data** panel:"
   ]
  },
  {
   "cell_type": "markdown",
   "metadata": {},
   "source": [
    "![alt](./Doc/Images/Parametric.png?1)"
   ]
  },
  {
   "cell_type": "markdown",
   "metadata": {},
   "source": [
    "| Name                           | Icon  |\n",
    "|:------|:------|\n",
    "|In General menu click the **`Update`** Button to update all **WorkFeature-WB Interactive** objects | ![alt](./Resources/Icons/WF_refresh.svg) |"
   ]
  },
  {
   "cell_type": "markdown",
   "metadata": {},
   "source": [
    "General preferences can be set in `Edit/Preferences` menu.\n",
    "\n",
    "In this panel you can choose by example to set the **Parametric behavior**:\n",
    "\n",
    "![alt](./Doc/Images/Preferences.png?1)"
   ]
  },
  {
   "cell_type": "markdown",
   "metadata": {},
   "source": [
    "[[back to top](#Sections)]\n",
    "\n",
    "## List of available functions\n"
   ]
  },
  {
   "cell_type": "markdown",
   "metadata": {},
   "source": [
    "Functions are organised by sub menus:"
   ]
  },
  {
   "cell_type": "markdown",
   "metadata": {},
   "source": [
    "| Name                           | Icons  |\n",
    "|:------|:------|\n",
    "| **WF General** | ![alt](./Doc/Images/WF_General.png) |\n",
    "| **WF Points** | ![alt](./Doc/Images/WF_Points.png?2) |\n",
    "| **WF Lines** | ![alt](./Doc/Images/WF_Lines.png) |\n",
    "| **WF Planes** | ![alt](./Doc/Images/WF_Planes.png?2) |"
   ]
  },
  {
   "cell_type": "markdown",
   "metadata": {},
   "source": [
    " - WF_General:\n",
    "\n",
    "| Icon                           | Function  |\n",
    "|:------|:------|\n",
    "|![alt](./Resources/Icons/WF_showHideDynamic.svg)  | Hide/Show all **Dynamic** parametric Objects. |\n",
    "|![alt](./Resources/Icons/WF_showHideInteractive.svg)  | Hide/Show all **Interactive** parametric Objects.|\n",
    "|![alt](./Resources/Icons/WF_showHideNot.svg)  | Hide/Show all **Not** parametric (static) Objects. |\n",
    "|![alt](./Resources/Icons/WF_refresh.svg)  | Force  update of all **Interactive** parametric Objects. |"
   ]
  },
  {
   "cell_type": "markdown",
   "metadata": {},
   "source": [
    " - WF_Points sub menu :\n",
    "\n",
    "| Icon                           | Function  |\n",
    "|:------|:------|\n",
    "|![alt](./Resources/Icons/WF_centerLinePoint.svg)  | Create Point(s) at Center location of each selected Line(s). <br>Can also create several Points along selected Line(s)|\n",
    "|![alt](./Resources/Icons/WF_alongLinePoint.svg)  | Create Point(s) along Line(s) <br>at a defined distance of intersection from selected Point(s)/Line(s).|\n",
    "|![alt](./Resources/Icons/WF_extremaLinePoint.svg)  | Create Point(s) at edges of selected Line(s).|\n",
    "|![alt](./Resources/Icons/WF_nPointsPoint.svg)  | Create a Point at MEAN location of all selected points.|\n",
    "|![alt](./Resources/Icons/WF_centerCirclePoint.svg)  | Create Point(s) at center location of selected Circle(s). **<span style=\"color:red\">NOT YET DEV in 2019 release!</span>** |\n",
    "|![alt](./Resources/Icons/WF_centerFacePoint.svg)  | Create Point(s) at center of mass location of selected Plane(s). |"
   ]
  },
  {
   "cell_type": "markdown",
   "metadata": {},
   "source": [
    "- WF_Lines sub menu :\n",
    "\n",
    "| Icon                           | Function  |\n",
    "|:------|:------|\n",
    "|![alt](./Resources/Icons/WF_twoPointsLine.svg)  | Create Line(s) in between two selected Points. |\n",
    "|![alt](./Resources/Icons/WF_nPointsLine.svg)  | Create a \"best fit\" Line from a set of points using Singular Value Decomposition (SVD). |"
   ]
  },
  {
   "cell_type": "markdown",
   "metadata": {},
   "source": [
    "- WF_Planes sub menu :\n",
    "\n",
    "| Icon                           | Function  |\n",
    "|:------|:------|\n",
    "|![alt](./Resources/Icons/WF_threePointsPlane.svg)  | Create a Plane from three selected Points.|\n",
    "|![alt](./Resources/Icons/WF_linePointPlane.svg)  | Create Plane(s) crossing a Point and a Line.|\n",
    "|![alt](./Resources/Icons/WF_perpendicularLinePointPlane.svg)  | Create Planes(s) crossing a Point and perpendicular to a Line. **<span style=\"color:red\">NOT YET DEV in 2019 release!</span>**|"
   ]
  },
  {
   "cell_type": "markdown",
   "metadata": {},
   "source": [
    "[[back to top](#Sections)]\n",
    "\n",
    "## Extra Documentations\n"
   ]
  },
  {
   "cell_type": "markdown",
   "metadata": {},
   "source": [
    "Find some more detailed documentations in ./Doc directory :\n",
    "  - [How to create \"Center Line Point(s)\"<img src=\"./Resources/Icons/WF_centerLinePoint.svg\">](./Doc/CenterLinePoint/HowTo_WFWB_Create_CenterLinePoint.md) <br>"
   ]
  },
  {
   "cell_type": "markdown",
   "metadata": {
    "collapsed": true
   },
   "source": [
    "[[back to top](#Sections)]\n",
    "\n",
    "## License\n"
   ]
  },
  {
   "cell_type": "markdown",
   "metadata": {},
   "source": [
    "<img src=\"./Doc/Images/gplv3-with-text-136x68.png\">\n",
    "[GNU GENERAL PUBLIC LICENSE](https://www.gnu.org/licenses/gpl-3.0.html)"
   ]
  },
  {
   "cell_type": "markdown",
   "metadata": {
    "collapsed": true
   },
   "source": [
    "\n",
    "[[back to top](#Sections)]\n",
    "\n",
    "## Releases\n",
    "\n",
    "\n",
    "[Mars 2018](https://github.com/Rentlau/WorkFeature-WB/tree/V18.03)\n",
    "First release with only dynamic parametric objects\n",
    "\n",
    "[January 2019](https://github.com/Rentlau/WorkFeature-WB/tree/release2019_01)\n",
    "Second release with **Not**, **Interactive** and **Dynamic** parametric objects. Not all Functions available but in active developpement."
   ]
  },
  {
   "cell_type": "markdown",
   "metadata": {
    "collapsed": true
   },
   "source": [
    "\n",
    "[[back to top](#Sections)]\n",
    "\n",
    "### Associated project\n",
    "\n",
    "[Work features addon-on (macro) for FreeCAD](https://github.com/Rentlau/WorkFeature)\n",
    "\n",
    "Tool utility that creates:\n",
    "\n",
    "    Origin (X, Y Z axes, Origin (0,0,0) point and XZ, XY, YZ planes)\n",
    "    Points (Center of Mass of object(s), mid points, center of circle, ...),\n",
    "    Axes (from 2 points, Normal of a plane...),\n",
    "    Planes (from 3 points, from one axis and a point...)\n",
    "    and many other useful features to facilitate the creation of your project.\n",
    "\n"
   ]
  },
  {
   "cell_type": "markdown",
   "metadata": {
    "collapsed": true
   },
   "source": [
    "[[back to top](#Sections)]\n",
    "\n",
    "### Developed on Linux Ubuntu\n",
    "\n",
    "    OS: Ubuntu 18.04.1 LTS\n",
    "    Word size of OS: 64-bit\n",
    "    Word size of FreeCAD: 64-bit\n",
    "    Version: 0.18.15697 (Git)\n",
    "    Build type: Release\n",
    "    Branch: master\n",
    "    Hash: dedaa807629ab25cf32977d30bf7610f1346aff7\n",
    "    Python version: 2.7.15rc1\n",
    "    Qt version: 5.9.5\n",
    "    Coin version: 4.0.0a\n",
    "    OCC version: 7.3.0\n",
    "    Locale: French/France (fr_FR)\n",
    "\n",
    "### Tested on Linux Ubuntu\n",
    "\n",
    "    A - FreeCAD 0.16.6712  : Not Yet\n",
    "    B - FreeCAD 0.17.13142 : Not yet\n",
    "    \n",
    "    C - FreeCAD_0.18.15671_Conda_Py3Qt5_glibc2.12-x86_64.AppImage : ok\n",
    "    \n",
    "    OS: Ubuntu 18.04.2 LTS\n",
    "    Word size of OS: 64-bit\n",
    "    Word size of FreeCAD: 64-bit\n",
    "    Version: 0.18.15671 (Git) AppImage\n",
    "    Build type: Release\n",
    "    Branch: master\n",
    "    Hash: 28cbe2bd8986701bb7404842cf60138957e23ed6\n",
    "    Python version: 3.6.7\n",
    "    Qt version: 5.6.2\n",
    "    Coin version: 4.0.0a\n",
    "    OCC version: 7.3.0\n",
    "    Locale: French/France (fr_FR)\n",
    "\n",
    "\n",
    "### Tested on Windows\n",
    "    A - FreeCAD 0.16.6706 : Not Yet"
   ]
  },
  {
   "cell_type": "code",
   "execution_count": null,
   "metadata": {},
   "outputs": [],
   "source": []
  }
 ],
 "metadata": {
  "kernelspec": {
   "display_name": "Python 2",
   "language": "python",
   "name": "python2"
  },
  "language_info": {
   "codemirror_mode": {
    "name": "ipython",
    "version": 2
   },
   "file_extension": ".py",
   "mimetype": "text/x-python",
   "name": "python",
   "nbconvert_exporter": "python",
   "pygments_lexer": "ipython2",
   "version": "2.7.15"
  }
 },
 "nbformat": 4,
 "nbformat_minor": 2
}
